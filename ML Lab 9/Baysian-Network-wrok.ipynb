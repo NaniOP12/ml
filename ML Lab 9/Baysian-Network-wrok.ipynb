{
 "cells": [
  {
   "cell_type": "code",
   "execution_count": 5,
   "metadata": {},
   "outputs": [
    {
     "name": "stdout",
     "output_type": "stream",
     "text": [
      "Test Accuracy: 0.8833333333333333\n",
      "Classification Report:\n",
      "               precision    recall  f1-score   support\n",
      "\n",
      "           0       0.91      0.89      0.90        36\n",
      "           1       0.84      0.88      0.86        24\n",
      "\n",
      "    accuracy                           0.88        60\n",
      "   macro avg       0.88      0.88      0.88        60\n",
      "weighted avg       0.88      0.88      0.88        60\n",
      "\n",
      "\n",
      "Predictions for custom inputs (0: No Disease, 1: Disease):\n",
      "Person 1: No Heart Disease\n",
      "Person 2: No Heart Disease\n",
      "Person 3: No Heart Disease\n"
     ]
    }
   ],
   "source": [
    "import pandas as pd\n",
    "import numpy as np\n",
    "from sklearn.model_selection import train_test_split\n",
    "from sklearn.ensemble import RandomForestClassifier\n",
    "from sklearn.metrics import classification_report, accuracy_score\n",
    "\n",
    "# Load the dataset\n",
    "column_names = [\n",
    "    'age', 'sex', 'cp', 'trestbps', 'chol', 'fbs',\n",
    "    'restecg', 'thalach', 'exang', 'oldpeak', 'slope',\n",
    "    'ca', 'thal', 'target'\n",
    "]\n",
    "url = 'https://archive.ics.uci.edu/ml/machine-learning-databases/heart-disease/processed.cleveland.data'\n",
    "df = pd.read_csv(url, names=column_names)\n",
    "\n",
    "# Replace '?' with NaN and drop rows with missing values\n",
    "df.replace('?', np.nan, inplace=True)\n",
    "df.dropna(inplace=True)\n",
    "\n",
    "# Convert relevant columns to numeric\n",
    "df['ca'] = pd.to_numeric(df['ca'])\n",
    "df['thal'] = pd.to_numeric(df['thal'])\n",
    "\n",
    "# Convert target to binary: 0 (no disease), 1 (disease)\n",
    "df['target'] = df['target'].apply(lambda x: 1 if int(x) > 0 else 0)\n",
    "\n",
    "# Features and target\n",
    "X = df.drop('target', axis=1)\n",
    "y = df['target']\n",
    "\n",
    "# Train-test split\n",
    "X_train, X_test, y_train, y_test = train_test_split(X, y, test_size=0.2, random_state=42)\n",
    "\n",
    "# Train model\n",
    "clf = RandomForestClassifier(random_state=42)\n",
    "clf.fit(X_train, y_train)\n",
    "\n",
    "# Evaluate on test set\n",
    "y_pred = clf.predict(X_test)\n",
    "print(\"Test Accuracy:\", accuracy_score(y_test, y_pred))\n",
    "print(\"Classification Report:\\n\", classification_report(y_test, y_pred))\n",
    "\n",
    "# ---- Predict for 3 new custom inputs ----\n",
    "\n",
    "new_inputs = pd.DataFrame([\n",
    "    [63, 1, 3, 145, 233, 1, 0, 150, 0, 2.3, 0, 0, 1],  # example: mild risk\n",
    "    [50, 0, 2, 130, 250, 0, 1, 170, 0, 1.4, 2, 0, 2],  # example: medium risk\n",
    "    [41, 1, 1, 120, 200, 0, 2, 180, 0, 1.0, 1, 0, 3]   # example: low risk\n",
    "], columns=X.columns)\n",
    "\n",
    "predictions = clf.predict(new_inputs)\n",
    "print(\"\\nPredictions for custom inputs (0: No Disease, 1: Disease):\")\n",
    "for i, pred in enumerate(predictions, 1):\n",
    "    print(f\"Person {i}: {'Heart Disease' if pred == 1 else 'No Heart Disease'}\")\n"
   ]
  },
  {
   "cell_type": "code",
   "execution_count": 2,
   "metadata": {},
   "outputs": [
    {
     "name": "stderr",
     "output_type": "stream",
     "text": [
      "WARNING: Skipping torch as it is not installed.\n"
     ]
    },
    {
     "name": "stdout",
     "output_type": "stream",
     "text": [
      "Looking in indexes: https://download.pytorch.org/whl/cpu\n",
      "Collecting torch==2.1.0\n"
     ]
    },
    {
     "name": "stderr",
     "output_type": "stream",
     "text": [
      "  ERROR: Could not find a version that satisfies the requirement torch==2.1.0 (from versions: 0.4.1, 1.0.0, 1.0.1, 1.1.0, 1.2.0+cpu, 1.3.0+cpu, 1.3.1+cpu, 1.4.0+cpu, 1.5.0+cpu, 1.5.1+cpu, 1.6.0+cpu, 1.7.0+cpu, 1.7.1+cpu, 1.8.0+cpu, 1.8.1+cpu, 1.9.0+cpu, 1.9.1+cpu, 1.10.0+cpu, 1.10.1+cpu, 1.10.2+cpu, 1.11.0+cpu, 1.12.0+cpu, 1.12.1+cpu, 1.13.0+cpu, 1.13.1+cpu)\n",
      "ERROR: No matching distribution found for torch==2.1.0\n"
     ]
    },
    {
     "ename": "OSError",
     "evalue": "[WinError 127] The specified procedure could not be found. Error loading \"C:\\Users\\cse\\NANI\\myenv\\lib\\site-packages\\torch\\lib\\shm.dll\" or one of its dependencies.",
     "output_type": "error",
     "traceback": [
      "\u001b[1;31m---------------------------------------------------------------------------\u001b[0m",
      "\u001b[1;31mOSError\u001b[0m                                   Traceback (most recent call last)",
      "Cell \u001b[1;32mIn[2], line 3\u001b[0m\n\u001b[0;32m      1\u001b[0m get_ipython()\u001b[38;5;241m.\u001b[39msystem(\u001b[38;5;124m'\u001b[39m\u001b[38;5;124mpip uninstall torch -y\u001b[39m\u001b[38;5;124m'\u001b[39m)\n\u001b[0;32m      2\u001b[0m get_ipython()\u001b[38;5;241m.\u001b[39msystem(\u001b[38;5;124m'\u001b[39m\u001b[38;5;124mpip install torch==2.1.0 --index-url https://download.pytorch.org/whl/cpu\u001b[39m\u001b[38;5;124m'\u001b[39m)\n\u001b[1;32m----> 3\u001b[0m \u001b[38;5;28;01mimport\u001b[39;00m\u001b[38;5;250m \u001b[39m\u001b[38;5;21;01mtorch\u001b[39;00m\n\u001b[0;32m      4\u001b[0m \u001b[38;5;28mprint\u001b[39m(torch\u001b[38;5;241m.\u001b[39m__version__)\n\u001b[0;32m      5\u001b[0m \u001b[38;5;28mprint\u001b[39m(\u001b[38;5;124m\"\u001b[39m\u001b[38;5;124mCUDA available?\u001b[39m\u001b[38;5;124m\"\u001b[39m , torch\u001b[38;5;241m.\u001b[39mcuda\u001b[38;5;241m.\u001b[39mis_available())\n",
      "File \u001b[1;32m~\\NANI\\myenv\\lib\\site-packages\\torch\\__init__.py:137\u001b[0m\n\u001b[0;32m    135\u001b[0m     err \u001b[38;5;241m=\u001b[39m ctypes\u001b[38;5;241m.\u001b[39mWinError(last_error)\n\u001b[0;32m    136\u001b[0m     err\u001b[38;5;241m.\u001b[39mstrerror \u001b[38;5;241m+\u001b[39m\u001b[38;5;241m=\u001b[39m \u001b[38;5;124mf\u001b[39m\u001b[38;5;124m'\u001b[39m\u001b[38;5;124m Error loading \u001b[39m\u001b[38;5;124m\"\u001b[39m\u001b[38;5;132;01m{\u001b[39;00mdll\u001b[38;5;132;01m}\u001b[39;00m\u001b[38;5;124m\"\u001b[39m\u001b[38;5;124m or one of its dependencies.\u001b[39m\u001b[38;5;124m'\u001b[39m\n\u001b[1;32m--> 137\u001b[0m     \u001b[38;5;28;01mraise\u001b[39;00m err\n\u001b[0;32m    138\u001b[0m \u001b[38;5;28;01melif\u001b[39;00m res \u001b[38;5;129;01mis\u001b[39;00m \u001b[38;5;129;01mnot\u001b[39;00m \u001b[38;5;28;01mNone\u001b[39;00m:\n\u001b[0;32m    139\u001b[0m     is_loaded \u001b[38;5;241m=\u001b[39m \u001b[38;5;28;01mTrue\u001b[39;00m\n",
      "\u001b[1;31mOSError\u001b[0m: [WinError 127] The specified procedure could not be found. Error loading \"C:\\Users\\cse\\NANI\\myenv\\lib\\site-packages\\torch\\lib\\shm.dll\" or one of its dependencies."
     ]
    }
   ],
   "source": [
    "!pip uninstall torch -y\n",
    "!pip install torch==2.1.0 --index-url https://download.pytorch.org/whl/cpu\n",
    "import torch\n",
    "print(torch.__version__)\n",
    "print(\"CUDA available?\" , torch.cuda.is_available())\n",
    "\n"
   ]
  },
  {
   "cell_type": "code",
   "execution_count": null,
   "metadata": {},
   "outputs": [],
   "source": []
  }
 ],
 "metadata": {
  "kernelspec": {
   "display_name": "Python (myenv)",
   "language": "python",
   "name": "myenv"
  },
  "language_info": {
   "codemirror_mode": {
    "name": "ipython",
    "version": 3
   },
   "file_extension": ".py",
   "mimetype": "text/x-python",
   "name": "python",
   "nbconvert_exporter": "python",
   "pygments_lexer": "ipython3",
   "version": "3.8.10"
  }
 },
 "nbformat": 4,
 "nbformat_minor": 5
}
