{
 "cells": [
  {
   "cell_type": "code",
   "execution_count": 3,
   "metadata": {},
   "outputs": [
    {
     "name": "stderr",
     "output_type": "stream",
     "text": [
      "MultinomialHMM has undergone major changes. The previous version was implementing a CategoricalHMM (a special case of MultinomialHMM). This new implementation follows the standard definition for a Multinomial distribution (e.g. as in https://en.wikipedia.org/wiki/Multinomial_distribution). See these issues for details:\n",
      "https://github.com/hmmlearn/hmmlearn/issues/335\n",
      "https://github.com/hmmlearn/hmmlearn/issues/340\n"
     ]
    },
    {
     "name": "stdout",
     "output_type": "stream",
     "text": [
      "Train sequence: ['walk', 'shop', 'clean', 'walk', 'walk', 'shop', 'clean']\n",
      "Predicted hidden states: [1 0 0 0 0 0 0]\n",
      "\n",
      "Transition matrix:\n",
      "[[0.87827377 0.12172623]\n",
      " [0.99887354 0.00112646]]\n",
      "\n",
      "Emission probabilities:\n",
      "[[1.]\n",
      " [1.]]\n"
     ]
    }
   ],
   "source": [
    "import numpy as np\n",
    "from hmmlearn import hmm\n",
    "\n",
    "# Step 1: Define observations\n",
    "observations = ['walk', 'shop', 'clean']\n",
    "obs_to_index = {obs: idx for idx, obs in enumerate(observations)}\n",
    "\n",
    "# Step 2: Prepare training sequence (encoded as numbers)\n",
    "train_sequence = ['walk', 'shop', 'clean', 'walk', 'walk', 'shop', 'clean']\n",
    "X = np.array([[obs_to_index[obs]] for obs in train_sequence])\n",
    "\n",
    "# Step 3: Define the HMM model\n",
    "model = hmm.MultinomialHMM(n_components=2, n_iter=100, random_state=42)\n",
    "\n",
    "# Step 4: Fit the model\n",
    "model.fit(X)\n",
    "\n",
    "# Step 5: Predict hidden states\n",
    "logprob, hidden_states = model.decode(X, algorithm=\"viterbi\")\n",
    "\n",
    "# Step 6: Output results\n",
    "print(\"Train sequence:\", train_sequence)\n",
    "print(\"Predicted hidden states:\", hidden_states)\n",
    "\n",
    "# Optional: View transition and emission probabilities\n",
    "print(\"\\nTransition matrix:\")\n",
    "print(model.transmat_)\n",
    "\n",
    "print(\"\\nEmission probabilities:\")\n",
    "print(model.emissionprob_)\n"
   ]
  },
  {
   "cell_type": "code",
   "execution_count": 2,
   "metadata": {},
   "outputs": [
    {
     "name": "stdout",
     "output_type": "stream",
     "text": [
      "Defaulting to user installation because normal site-packages is not writeable\n",
      "Requirement already satisfied: numpy in /home/nani/.local/lib/python3.10/site-packages (2.0.2)\n",
      "Requirement already satisfied: matplotlib in /home/nani/.local/lib/python3.10/site-packages (3.10.3)\n",
      "Requirement already satisfied: scikit-learn in /home/nani/.local/lib/python3.10/site-packages (1.6.1)\n",
      "Collecting hmmlearn\n",
      "  Downloading hmmlearn-0.3.3-cp310-cp310-manylinux_2_17_x86_64.manylinux2014_x86_64.whl (164 kB)\n",
      "\u001b[2K     \u001b[38;2;114;156;31m━━━━━━━━━━━━━━━━━━━━━━━━━━━━━━━━━━━━━\u001b[0m \u001b[32m164.6/164.6 KB\u001b[0m \u001b[31m930.7 kB/s\u001b[0m eta \u001b[36m0:00:00\u001b[0mm eta \u001b[36m0:00:01\u001b[0m0:01\u001b[0m\n",
      "\u001b[?25hRequirement already satisfied: kiwisolver>=1.3.1 in /home/nani/.local/lib/python3.10/site-packages (from matplotlib) (1.4.8)\n",
      "Requirement already satisfied: cycler>=0.10 in /home/nani/.local/lib/python3.10/site-packages (from matplotlib) (0.12.1)\n",
      "Requirement already satisfied: fonttools>=4.22.0 in /home/nani/.local/lib/python3.10/site-packages (from matplotlib) (4.58.0)\n",
      "Requirement already satisfied: packaging>=20.0 in /home/nani/.local/lib/python3.10/site-packages (from matplotlib) (24.1)\n",
      "Requirement already satisfied: pyparsing>=2.3.1 in /usr/lib/python3/dist-packages (from matplotlib) (2.4.7)\n",
      "Requirement already satisfied: contourpy>=1.0.1 in /home/nani/.local/lib/python3.10/site-packages (from matplotlib) (1.3.2)\n",
      "Requirement already satisfied: pillow>=8 in /home/nani/.local/lib/python3.10/site-packages (from matplotlib) (11.2.1)\n",
      "Requirement already satisfied: python-dateutil>=2.7 in /home/nani/.local/lib/python3.10/site-packages (from matplotlib) (2.9.0.post0)\n",
      "Requirement already satisfied: joblib>=1.2.0 in /home/nani/.local/lib/python3.10/site-packages (from scikit-learn) (1.4.2)\n",
      "Requirement already satisfied: threadpoolctl>=3.1.0 in /home/nani/.local/lib/python3.10/site-packages (from scikit-learn) (3.6.0)\n",
      "Requirement already satisfied: scipy>=1.6.0 in /home/nani/.local/lib/python3.10/site-packages (from scikit-learn) (1.15.3)\n",
      "Requirement already satisfied: six>=1.5 in /usr/lib/python3/dist-packages (from python-dateutil>=2.7->matplotlib) (1.16.0)\n",
      "Installing collected packages: hmmlearn\n",
      "Successfully installed hmmlearn-0.3.3\n"
     ]
    }
   ],
   "source": [
    "!pip install numpy matplotlib scikit-learn hmmlearn\n"
   ]
  }
 ],
 "metadata": {
  "kernelspec": {
   "display_name": "Python 3",
   "language": "python",
   "name": "python3"
  },
  "language_info": {
   "codemirror_mode": {
    "name": "ipython",
    "version": 3
   },
   "file_extension": ".py",
   "mimetype": "text/x-python",
   "name": "python",
   "nbconvert_exporter": "python",
   "pygments_lexer": "ipython3",
   "version": "3.10.12"
  }
 },
 "nbformat": 4,
 "nbformat_minor": 2
}
