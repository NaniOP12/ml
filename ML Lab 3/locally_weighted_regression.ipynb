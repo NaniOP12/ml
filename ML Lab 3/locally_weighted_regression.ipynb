{
 "cells": [
  {
   "cell_type": "code",
   "execution_count": 4,
   "metadata": {},
   "outputs": [
    {
     "data": {
      "image/png": "[encoded data removed]",
      "text/plain": [
       "<Figure size 432x288 with 1 Axes>"
      ]
     },
     "metadata": {
      "needs_background": "light"
     },
     "output_type": "display_data"
    }
   ],
   "source": [
    "import numpy as np\n",
    "import matplotlib.pyplot as plt\n",
    "%matplotlib inline\n",
    "\n",
    "def locally_weighted_regression(x, y, tau=0.1):\n",
    "    \"\"\"\n",
    "    Performs Locally Weighted Linear Regression (LWLR) to fit data points.\n",
    "\n",
    "    Parameters:\n",
    "    x (numpy array): Input data points (1D).\n",
    "    y (numpy array): Output data points (1D).\n",
    "    tau (float): The bandwidth parameter that controls the locality. Smaller values make the model more sensitive to nearby points.\n",
    "    \n",
    "    Returns:\n",
    "    numpy array: Predicted values.\n",
    "    \"\"\"\n",
    "    \n",
    "    m = len(x)\n",
    "    predictions = np.zeros(m)\n",
    "    \n",
    "    # Add a bias term by appending 1's to the input data for the intercept\n",
    "    X = np.c_[np.ones(m), x]\n",
    "    \n",
    "    for i in range(m):\n",
    "        # Weights vector (diagonal matrix), where closer points have higher weights\n",
    "        W = np.diag(np.exp(-(x - x[i]) ** 2 / (2 * tau ** 2)))\n",
    "        \n",
    "        # Solving the weighted least squares problem: (X.T @ W @ X) @ (X.T @ W @ y)\n",
    "        theta = np.linalg.pinv(X.T @ W @ X) @ (X.T @ W @ y)\n",
    "        \n",
    "        # The prediction for the current point\n",
    "        predictions[i] = X[i].dot(theta)\n",
    "    \n",
    "    return predictions\n",
    "\n",
    "# Example usage:\n",
    "if __name__ == \"__main__\":\n",
    "    # Generate synthetic data for demonstration\n",
    "    np.random.seed(42)\n",
    "    x = np.sort(np.random.rand(100) * 10)  # 100 data points between 0 and 10\n",
    "    y = np.sin(x) + np.random.normal(0, 0.2, len(x))  # Sinusoidal function with noise\n",
    "    \n",
    "    # Apply Locally Weighted Linear Regression\n",
    "    tau = 1.0  # Bandwidth parameter\n",
    "    predictions = locally_weighted_regression(x, y, tau)\n",
    "    \n",
    "    # Plotting the data and the fitted curve\n",
    "    plt.scatter(x, y, label='Data', color='blue')\n",
    "    plt.plot(x, predictions, label='LWLR Fit', color='red', linewidth=2)\n",
    "    plt.legend()\n",
    "    plt.show()\n"
   ]
  },
  {
   "cell_type": "code",
   "execution_count": null,
   "metadata": {},
   "outputs": [],
   "source": []
  }
 ],
 "metadata": {
  "kernelspec": {
   "display_name": "Python 3",
   "language": "python",
   "name": "python3"
  },
  "language_info": {
   "codemirror_mode": {
    "name": "ipython",
    "version": 3
   },
   "file_extension": ".py",
   "mimetype": "text/x-python",
   "name": "python",
   "nbconvert_exporter": "python",
   "pygments_lexer": "ipython3",
   "version": "3.7.3"
  },
  "vscode": {
   "interpreter": {
    "hash": "8966365e1e1c555ff681e829c08a5e6730b1f6b1b4c2abfa0ea1145e98ff3d77"
   }
  }
 },
 "nbformat": 4,
 "nbformat_minor": 2
}
